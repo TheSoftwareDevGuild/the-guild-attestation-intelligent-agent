{
 "cells": [
  {
   "cell_type": "code",
   "execution_count": 2,
   "id": "c486d410",
   "metadata": {},
   "outputs": [],
   "source": [
    "import os\n",
    "import openai\n",
    "\n",
    "from langsmith import Client\n",
    "from qdrant_client import QdrantClient\n",
    "\n",
    "from langchain_openai import ChatOpenAI\n",
    "from langchain_openai import OpenAIEmbeddings\n",
    "\n",
    "from ragas.llms import LangchainLLMWrapper\n",
    "from ragas.embeddings import LangchainEmbeddingsWrapper"
   ]
  },
  {
   "cell_type": "markdown",
   "id": "daa89b03",
   "metadata": {},
   "source": [
    "### Download an example reference data point from LangSmith"
   ]
  },
  {
   "cell_type": "code",
   "execution_count": 3,
   "id": "68e76c04",
   "metadata": {},
   "outputs": [],
   "source": [
    "client = Client()"
   ]
  },
  {
   "cell_type": "code",
   "execution_count": 4,
   "id": "5af2f137",
   "metadata": {},
   "outputs": [],
   "source": [
    "dataset = client.read_dataset(\n",
    "    dataset_name=\"rag-evaluation-dataset\"\n",
    ")"
   ]
  },
  {
   "cell_type": "code",
   "execution_count": 5,
   "id": "1771f8b5",
   "metadata": {},
   "outputs": [
    {
     "data": {
      "text/plain": [
       "Dataset(name='rag-evaluation-dataset', description='Dataset for evaluating RAG pipeline', data_type=<DataType.kv: 'kv'>, id=UUID('2d9ee68f-b798-49a1-a5d4-9f475f685dd4'), created_at=datetime.datetime(2025, 10, 10, 14, 27, 58, 18781, tzinfo=datetime.timezone.utc), modified_at=datetime.datetime(2025, 10, 10, 14, 27, 58, 18781, tzinfo=datetime.timezone.utc), example_count=63, session_count=0, last_session_start_time=None, inputs_schema=None, outputs_schema=None, transformations=None, metadata={'runtime': {'sdk': 'langsmith-py', 'library': 'langsmith', 'runtime': 'python', 'platform': 'macOS-15.6-arm64-arm-64bit', 'sdk_version': '0.4.33', 'runtime_version': '3.12.11', 'langchain_version': None, 'py_implementation': 'CPython', 'langchain_core_version': '0.3.78'}})"
      ]
     },
     "execution_count": 5,
     "metadata": {},
     "output_type": "execute_result"
    }
   ],
   "source": [
    "dataset"
   ]
  },
  {
   "cell_type": "code",
   "execution_count": 6,
   "id": "c9de7508",
   "metadata": {},
   "outputs": [
    {
     "data": {
      "text/plain": [
       "{'question': 'Can you suggest any food processors or kitchen appliances you have?'}"
      ]
     },
     "execution_count": 6,
     "metadata": {},
     "output_type": "execute_result"
    }
   ],
   "source": [
    "list(client.list_examples(dataset_id=dataset.id, limit=10))[0].inputs"
   ]
  },
  {
   "cell_type": "code",
   "execution_count": 8,
   "id": "08de5832",
   "metadata": {},
   "outputs": [
    {
     "data": {
      "text/plain": [
       "{'ground_truth': 'None of the products contain a portable air conditioner feature.',\n",
       " 'reference_context_ids': [],\n",
       " 'reference_descriptions': []}"
      ]
     },
     "execution_count": 8,
     "metadata": {},
     "output_type": "execute_result"
    }
   ],
   "source": [
    "list(client.list_examples(dataset_id=dataset.id, limit=10))[0].outputs"
   ]
  },
  {
   "cell_type": "code",
   "execution_count": 8,
   "id": "b3ef91b3",
   "metadata": {},
   "outputs": [
    {
     "data": {
      "text/plain": [
       "{'question': 'Do you have any surveillance cameras or security products?'}"
      ]
     },
     "execution_count": 8,
     "metadata": {},
     "output_type": "execute_result"
    }
   ],
   "source": [
    "list(client.list_examples(dataset_id=dataset.id, limit=10))[5].inputs"
   ]
  },
  {
   "cell_type": "code",
   "execution_count": 7,
   "id": "68fc9424",
   "metadata": {},
   "outputs": [
    {
     "data": {
      "text/plain": [
       "{'ground_truth': 'Yes, we stock a wireless WiFi light bulb security camera with motion detection and night vision, and a hidden camera clock with HD 1080P WiFi and night vision for home or office security.',\n",
       " 'reference_context_ids': ['B0C4DBSWGW', 'B0B2JJJFCD'],\n",
       " 'reference_descriptions': ['XVIM Wireless WiFi Light Bulb Camera, 3MP Light Bulb Security Camera, 360° Pan/Tilt Indoor Dome Camera with LED Light, Motion Detection, Full Color Night Vision 【Wireless Connection & Easy Installation】- XVIM wireless security camera supports 2.4Ghz WiFi wireless connection (5Ghz WiFi is not supported). Bulb camera can be directly used with E27 light socket (100V~240V). Also, equipped with an adapter, the light bulb security camera can be easily used by being screwed into the adapter and plugged into the power supply. You can easily use the bulb camera even if there is no light socket at home.【3MP HD Image & Color Night Vision】- With 3MP HD resolution, XVIM light bulb security camera shows you clear and smooth live video/images with absolutely no graininess or blur. Also, the camera for home security is equipped with infrared lights and LED lights, you can enjoy clear Black & White images or Color images at night as you like.【Pan/Tilt Capacity & 2-way Audio】- XVIM security light bulb camera rotates 355° horizontally and flips 90° vertically, allowing you to control the viewing angle of the camera via the app to achieve 360° observation. Light bulb camera has a built-in speaker and microphone, it’s practical for you to have a conversation with your family anytime. Also, when bulb camera detects motion, it will notify you via the “HoMeYe Pro” app in real time , letting you know every potential in the home danger.【Remote Access & Device Sharing】- The wireless camera security supports remote access. After successfully connected the camera on the app, you can remotely access the camera via “HoMeYe Pro” app wherever, whenever. And the bulb camera supports multi-user connectivity and device sharing. Your family as well as you can view the camera on different devices at the same time.【Smart Storage & High Quality Service】- Wireless bulb camera supports micro SD card storage (max128G, not included) and cloud storage(require subscription). You can view, play back and download recordings in real time from the “HoMeYe Pro” app anytime, anywhere. If you have any questions during installation and use, please feel free to contact our customer support, we’ll help you out with your problem as quickly as we can.',\n",
       "  'Acrisbrat Hidden Camera Clock with HD 1080P WiFi Spy Camera Alarm Clock with Night Vision and Motion Detection Wireless Nanny Cam for Home Office Security 【Easy to operate】Our camera app download is divided into Android and iPhone version. For iPhone users, please scan our QR code and download the Lookcam\" application through your cell phone camera. For Android users, please download the \"Lookcam\" application through Play Store.']}"
      ]
     },
     "execution_count": 7,
     "metadata": {},
     "output_type": "execute_result"
    }
   ],
   "source": [
    "list(client.list_examples(dataset_id=dataset.id, limit=10))[5].outputs"
   ]
  },
  {
   "cell_type": "code",
   "execution_count": 9,
   "id": "0c985919",
   "metadata": {},
   "outputs": [],
   "source": [
    "reference_input = list(client.list_examples(dataset_id=dataset.id, limit=10))[5].inputs\n",
    "reference_output = list(client.list_examples(dataset_id=dataset.id, limit=10))[5].outputs"
   ]
  },
  {
   "cell_type": "markdown",
   "id": "0d16123a",
   "metadata": {},
   "source": [
    "### RAG Pipeline"
   ]
  },
  {
   "cell_type": "code",
   "execution_count": 10,
   "id": "b0c1e9e2",
   "metadata": {},
   "outputs": [],
   "source": [
    "qdrant_client = QdrantClient(url=\"http://localhost:6333\")"
   ]
  },
  {
   "cell_type": "code",
   "execution_count": 11,
   "id": "0901eebb",
   "metadata": {},
   "outputs": [],
   "source": [
    "def get_embedding(text, model=\"text-embedding-3-small\"):\n",
    "    response = openai.embeddings.create(\n",
    "        input=text,\n",
    "        model=model,\n",
    "    )\n",
    "\n",
    "    return response.data[0].embedding\n",
    "\n",
    "\n",
    "def retrieve_data(query, qdrant_client, k=5):\n",
    "\n",
    "    query_embedding = get_embedding(query)\n",
    "\n",
    "    results = qdrant_client.query_points(\n",
    "        collection_name=\"Amazon-items-collection-00\",\n",
    "        query=query_embedding,\n",
    "        limit=k,\n",
    "    )\n",
    "\n",
    "    retrieved_context_ids = []\n",
    "    retrieved_context = []\n",
    "    similarity_scores = []\n",
    "\n",
    "    for result in results.points:\n",
    "        retrieved_context_ids.append(result.payload[\"parent_asin\"])\n",
    "        retrieved_context.append(result.payload[\"description\"])\n",
    "        similarity_scores.append(result.score)\n",
    "\n",
    "    return {\n",
    "        \"retrieved_context_ids\": retrieved_context_ids,\n",
    "        \"retrieved_context\": retrieved_context,\n",
    "        \"similarity_scores\": similarity_scores,\n",
    "    }\n",
    "\n",
    "def process_context(context):\n",
    "\n",
    "    formatted_context = \"\"\n",
    "\n",
    "    for id, chunk in zip(context[\"retrieved_context_ids\"], context[\"retrieved_context\"]):\n",
    "        formatted_context += f\"- {id}: {chunk}\\n\"\n",
    "\n",
    "    return formatted_context\n",
    "\n",
    "\n",
    "def build_prompt(preprocessed_context, question):\n",
    "\n",
    "    prompt = f\"\"\"\n",
    "You are a shopping assistant that can answer questions about the products in stock.\n",
    "\n",
    "You will be given a question and a list of context.\n",
    "\n",
    "Instructtions:\n",
    "- You need to answer the question based on the provided context only.\n",
    "- Never use word context and refer to it as the available products.\n",
    "\n",
    "Context:\n",
    "{preprocessed_context}\n",
    "\n",
    "Question:\n",
    "{question}\n",
    "\"\"\"\n",
    "\n",
    "    return prompt\n",
    "    \n",
    "def generate_answer(prompt):\n",
    "\n",
    "    response = openai.chat.completions.create(\n",
    "        model=\"gpt-4.1-mini\",\n",
    "        messages=[{\"role\": \"system\", \"content\": prompt}],\n",
    "        temperature=0.5,\n",
    "    )\n",
    "\n",
    "    return response.choices[0].message.content\n",
    "\n",
    "\n",
    "def rag_pipeline(question, qdrant_client, top_k=5):\n",
    "\n",
    "    retrieved_context = retrieve_data(question, qdrant_client, top_k)\n",
    "    preprocessed_context = process_context(retrieved_context)\n",
    "    prompt = build_prompt(preprocessed_context, question)\n",
    "    answer = generate_answer(prompt)\n",
    "\n",
    "    final_result = {\n",
    "        \"answer\": answer,\n",
    "        \"question\": question,\n",
    "        \"retrieved_context_ids\": retrieved_context[\"retrieved_context_ids\"],\n",
    "        \"retrieved_context\": retrieved_context[\"retrieved_context\"],\n",
    "        \"similarity_scores\": retrieved_context[\"similarity_scores\"]\n",
    "    }\n",
    "\n",
    "    return final_result"
   ]
  },
  {
   "cell_type": "code",
   "execution_count": 12,
   "id": "632af442",
   "metadata": {},
   "outputs": [
    {
     "data": {
      "text/plain": [
       "{'answer': 'Yes, there are several charger cables available:\\n\\n1. iPhone Charger Cord Lightning Cables, Original 2022 Upgraded, 3-pack of 3ft cables, Apple MFi Certified, suitable for many iPhone and iPad models (Black) - product B0BYYLJRHT.\\n\\n2. MUXA 6 Pack of colorful nylon Lightning cables with various lengths (3ft, 6ft, 10ft), Apple MFi Certified, compatible with many iPhone and iPad models - product B09TNXY54Y.\\n\\n3. 5 in 1 USB C to Multi Charging Cable (10ft), Apple MFi Certified, with Lightning, Type C, and Micro USB connectors for multiple device charging - product B0BFPZGYLD.\\n\\n4. GREPHONE 2 Pack USB C to Lightning Cable, 6ft, Apple MFi Certified, fast charging compatible with many iPhone and iPad models - product B0BV6PWVCG.\\n\\n5. Mixblu Charger Cable Replacement for Fitbit Inspire 3 (2 Pack, 3.3ft) - product B0BGDQLZD2.\\n\\nPlease let me know if you want details or to choose one.',\n",
       " 'question': 'Can I get some charger?',\n",
       " 'retrieved_context_ids': ['B0BYYLJRHT',\n",
       "  'B09TNXY54Y',\n",
       "  'B0BFPZGYLD',\n",
       "  'B0BV6PWVCG',\n",
       "  'B0BGDQLZD2'],\n",
       " 'retrieved_context': ['iPhone Charger Cord Lightning Cables, Original 2022 Upgraded [3Pack 3ft] Apple MFi Certified USB A Charging Cable for iPhone 13 12 11 Mini Pro XR Xs Max X SE 8 7 6 Plus iPad iPod AirPods - Black Original Apple Cable - iPhone charging cable with a reinforced joint design that has passed 30,000+ times bending tests for extra protection and durability. Insulation and precisely layer-welded connectors, which make the cable more durable and sturdier than normal iPhone charger cables but also flexible and tangle-free.Instant Responses - No error message pops up. Real high-speed iPhone charging cable with stable and efficient current output, you can plug it into laptop computers and in-car charging adapter.Super Fast Charge - The iPhone Lightning cable build-in four-core high-quality copper wires and multiple safety protections overcharge/stable current/automatic switching/battery protection to promote maximum signal quality and strength. You can enjoy faster charging [3.0A] and safer high-speed data transferring [480Mbps].Apple MFi Certified - Lightning cable ensure 100% compatibility with iPhone 13, 13 Pro, 13 Pro Max, 13 Mini, 12, 12 Mini, 12 Pro, 12 Pro Max, SE 2020, iPhone 11, 11 Pro, 11 Pro Max, XR , Xs , Xs Max, X, 8, 8 plus, 7, 7 plus, 6s, 6s plus, 6, 6 plus, SE, 5s, 5, 5c, iPad Pro, iPad Air, iPad Air 2, iPad mini, mini 2, mini 3, mini 4, Mini 6, iPad 4, iPad 9, iPod Touch (5 Gen), iPod Nano 7.What You Get? - 3-foot long MFI apple certified iPhone charger cable 3 pack, if you have any questions, please feel free to contact us. Notice: Please make sure to make a purchase in the store! Otherwise, we will not be able to guarantee its authenticity, and we do not provide any after-sale services for other stores!',\n",
       "  \"MUXA 6 Pack [Apple MFi Certified] 3/3/6/6/10/10 FT iPhone Charger Colorful Nylon Lightning Cable Compatible iPhone 13 mini/13/12/11 Pro Max/XS MAX/XR/XS/X/8/7/Plus/6S/6/SE/5S/iPad ♦Perfectly Compatibility♦ : Work with iPhone 13 12 11, 13 12 11 Pro, 13 12 11 Pro Max,13 12 Mini, XS Max, XS, XR, X, 8 Plus, 8, 7 Plus, 7, 6S Plus, 6S, 6 Plus, 6, 5S, 5C, 5, iPad iPod .♦Multiple Enjoyment♦ : Precise interface design, Fits enoughly to your charging port, no need to remove the phone case, solve tedious troubles, and charge when you want to charge all the time.Cables long enough to be convenient to charge your device in bedroom, sofa, office, travel，even when you are on the backseat of the car.♦MFi Certified iPhone Charger♦ : MFI Certified Lightning Cable, Built with terminal and smart chip, ensured safe charging for your devices and Enjoy fast charge and data transfer.♦Strengthened Durability♦ : It will be more durable than iPhone cable you have ever seen. It has a service life of 12 times longer than other cables, and has been proven to withstand 12,000 cycles + bending in rigorous laboratory tests.♦Sweet Service♦ : If you have any questions about the product, please don't hesitate to contact us immediately and we will answer you within 24 hours.\",\n",
       "  '5 in 1 USB C to Multi Charging Cable 3M/10Ft, [Apple MFi Certified] USB A/USB C to Lightning+Type C+Micro USB Connector, Multi Charger Cable for Android/iPhone/Apple/Samsung/Huawei/LG (Not for i Pad) 【1 Cable = 6 Cables】The multi charging cable includes 2-in-1 USB A to USB C PD port, and 3 charging connecters: lightning / Type C / Micro USB, providing you with 6 different charging needs. 1 cable can charge three devices at the same time. Charging speed: Lightning: 2.4A, Micro USB: 2A,Type C: 6A. Please NOTE: *Multi USB charging cable is just for charging not for sync data. *USB C port does NOT work with i-Pads, tablets, and larger power-requirement devices. (Because not support PD function)【Universal and Multifunctiona: Lightning, USB C, Micro USB】The lightning/iOS port compatible with iPhone 14/14 Pro/14 Pro Max/14 Plus/13/13 Pro Max/12/12Pro/iPhone 11/11Pro/XS /XS Max/XR/8/8 Plus 7/7 Plus. The USB C port supports to the Galaxy S10, Note 8, Nexus, LG, Pixel, HTC, OnePlus, Huawei, XiaoMi. The Micro USB port compatible with Samsung Galaxy S7/S6/S4 most Android phones, also compatible with Kindle, Bluetooth headset, external batteries, PS4 controllers and more.【MFi Certified】The 3M universal multi charging cable contains an authorized chip to ensure 100% compatibility with iPhone without error message popping up. 3M USB C multi fast charging cable has a built-in terminal and smart chip to ensure your device is safely charged.【Excellent & Durable Design】5 in 1 multiple charger cable length is 10FT, which is the most popular cable length. Multifunctional and easy to carry. When you have 2 or more mobile phones, just carry a multi-purpose cable to meet the needs of all charging devices. The 6-in-1 universal charging cable is made of high-quality smooth nylon to better protect the core. In addition, the use of high-quality heat-resistant aluminum alloy terminals increases reliability and durability.【Best Service】For the 3M/10Ft multi 5 in 1 USB universal iPhone charging cable, we provide the 24 hours email support, 30-day free return and exchange service, and 1 years of after-sales warranty.If you have any questions about your product, please contact us, we will reply as soon as possible.',\n",
       "  'GREPHONE 2 Pack USB C to Lightning Cable,6 FT MFi Certified Extra Long iPhone Charger Cord,6 Foot USB Type C to Lightning Fast Cable Compatible with 13/12/11/11Pro/11Max/ X/XS/XR/XS Max/8/7/6/SE/iPad 【Super charging】Really iphone fast charger,our charging cable, 30 minutes to restore 60% of the phone\\'s power superior iPhone connector ensure superior data transfer with fast and stable charging.【Perfect 6ft and quality】Wfith the 6foot length, you can lie on the couch or sofa and use your devices while you are charging at the same time. Special reinforced material, the wire has been tested many times to be softer and tougher to provide additional protection and durability. The 3D aluminum joint and the exclusive laser welding technology ensure that it will not break and the connection will be tighter. It can fit well even on the mobile phone protective shell and never loosen.【Compatibility List】:USB-C to lightning cable supports PD Fast Charge 3A/30W (max) for iPad 8th iPad 2020, iPhone 13/13 Mini/13 Pro/13 Pro Max/12/12 Mini/12 Pro/12 Pro Max/11/11 Pro/11 Pro Max/XS Max/XS/XR/X/8 Plus/8 and iPad Pro 12.9\" gen1/iPad Pro 12.9\" gen2/iPad Pro 10.5\"/iPad Air3 10.5\"/iPad mini5 7.9\"; This cable also supports the standard charge (5V/2.4A max) for iPhone 7 Plus/7/6 Plus/6/6S Plus/6S etc. Note: You need a USB-C port wall charger to achieve fast charging.【Apple MFi Certified Lightning Cable】 With the Apple MFi Chip, the USB-C to lightning cable cord equips automatic chip recognition function.They adopt the latest and faster charging C94 lightning terminal design,and built-in overvoltage protection ensure your Apple devices are charged safely, at their fastest possible speed. The Apple MFi Certification ensures 100% flawless.【100% satisfactory service】You will get 2 packs of 6ft usb c to lightning cables and we will render a 12-month service to you as promised ensure your pleasing shopping experience. If you have any questions, please feel free to contact us. Our service team will provide you with a satisfactory solution within 24 hours.',\n",
       "  'Mixblu Charger Cable Replacement for Fitbit Inspire 3 (2 Pack/3.3Ft) Mixblu replacement charging cables are specially designed for Inspire 3 only.Passed thousands of qualified tests, it can provide a fast charging speed and stable charging status.Made of ABS plastic and TPE cable, lightweight, stable and durable, giving you a good charging experience.3.3ft long charging cord provides you convenient use and the flexibility you need.2 Pack tested charging cables for Inspire 3.'],\n",
       " 'similarity_scores': [0.42078805,\n",
       "  0.3669688,\n",
       "  0.36531186,\n",
       "  0.3600427,\n",
       "  0.34668732]}"
      ]
     },
     "execution_count": 12,
     "metadata": {},
     "output_type": "execute_result"
    }
   ],
   "source": [
    "rag_pipeline(\"Can I get some charger?\", qdrant_client, top_k=5)"
   ]
  },
  {
   "cell_type": "markdown",
   "id": "f0483b17",
   "metadata": {},
   "source": [
    "### RAGAS Metrics"
   ]
  },
  {
   "cell_type": "code",
   "execution_count": 13,
   "id": "e922af00",
   "metadata": {},
   "outputs": [
    {
     "name": "stderr",
     "output_type": "stream",
     "text": [
      "/var/folders/hd/mwwk_4zs7blcj6tc0ycm9t5c0000gn/T/ipykernel_27041/3539187904.py:5: DeprecationWarning: LangchainLLMWrapper is deprecated and will be removed in a future version. Use the modern LLM providers instead: from ragas.llms.base import llm_factory; llm = llm_factory('gpt-4o-mini') or from ragas.llms.base import instructor_llm_factory; llm = instructor_llm_factory('openai', client=openai_client)\n",
      "  ragas_llm = LangchainLLMWrapper(ChatOpenAI(model=\"gpt-4.1-mini\"))\n",
      "/var/folders/hd/mwwk_4zs7blcj6tc0ycm9t5c0000gn/T/ipykernel_27041/3539187904.py:6: DeprecationWarning: LangchainEmbeddingsWrapper is deprecated and will be removed in a future version. Use the modern embedding providers instead: embedding_factory('openai', model='text-embedding-3-small', client=openai_client) or from ragas.embeddings import OpenAIEmbeddings, GoogleEmbeddings, HuggingFaceEmbeddings\n",
      "  ragas_embeddings = LangchainEmbeddingsWrapper(OpenAIEmbeddings(model=\"text-embedding-3-small\"))\n"
     ]
    }
   ],
   "source": [
    "from ragas.dataset_schema import SingleTurnSample \n",
    "from ragas.metrics import IDBasedContextPrecision, IDBasedContextRecall, Faithfulness, ResponseRelevancy\n",
    "\n",
    "\n",
    "ragas_llm = LangchainLLMWrapper(ChatOpenAI(model=\"gpt-4.1-mini\"))\n",
    "ragas_embeddings = LangchainEmbeddingsWrapper(OpenAIEmbeddings(model=\"text-embedding-3-small\"))"
   ]
  },
  {
   "cell_type": "code",
   "execution_count": 14,
   "id": "f72b994b",
   "metadata": {},
   "outputs": [
    {
     "data": {
      "text/plain": [
       "{'question': 'Do you have any surveillance cameras or security products?'}"
      ]
     },
     "execution_count": 14,
     "metadata": {},
     "output_type": "execute_result"
    }
   ],
   "source": [
    "reference_input"
   ]
  },
  {
   "cell_type": "code",
   "execution_count": 15,
   "id": "d5127c03",
   "metadata": {},
   "outputs": [
    {
     "data": {
      "text/plain": [
       "{'ground_truth': 'Yes, we stock a wireless WiFi light bulb security camera with motion detection and night vision, and a hidden camera clock with HD 1080P WiFi and night vision for home or office security.',\n",
       " 'reference_context_ids': ['B0C4DBSWGW', 'B0B2JJJFCD'],\n",
       " 'reference_descriptions': ['XVIM Wireless WiFi Light Bulb Camera, 3MP Light Bulb Security Camera, 360° Pan/Tilt Indoor Dome Camera with LED Light, Motion Detection, Full Color Night Vision 【Wireless Connection & Easy Installation】- XVIM wireless security camera supports 2.4Ghz WiFi wireless connection (5Ghz WiFi is not supported). Bulb camera can be directly used with E27 light socket (100V~240V). Also, equipped with an adapter, the light bulb security camera can be easily used by being screwed into the adapter and plugged into the power supply. You can easily use the bulb camera even if there is no light socket at home.【3MP HD Image & Color Night Vision】- With 3MP HD resolution, XVIM light bulb security camera shows you clear and smooth live video/images with absolutely no graininess or blur. Also, the camera for home security is equipped with infrared lights and LED lights, you can enjoy clear Black & White images or Color images at night as you like.【Pan/Tilt Capacity & 2-way Audio】- XVIM security light bulb camera rotates 355° horizontally and flips 90° vertically, allowing you to control the viewing angle of the camera via the app to achieve 360° observation. Light bulb camera has a built-in speaker and microphone, it’s practical for you to have a conversation with your family anytime. Also, when bulb camera detects motion, it will notify you via the “HoMeYe Pro” app in real time , letting you know every potential in the home danger.【Remote Access & Device Sharing】- The wireless camera security supports remote access. After successfully connected the camera on the app, you can remotely access the camera via “HoMeYe Pro” app wherever, whenever. And the bulb camera supports multi-user connectivity and device sharing. Your family as well as you can view the camera on different devices at the same time.【Smart Storage & High Quality Service】- Wireless bulb camera supports micro SD card storage (max128G, not included) and cloud storage(require subscription). You can view, play back and download recordings in real time from the “HoMeYe Pro” app anytime, anywhere. If you have any questions during installation and use, please feel free to contact our customer support, we’ll help you out with your problem as quickly as we can.',\n",
       "  'Acrisbrat Hidden Camera Clock with HD 1080P WiFi Spy Camera Alarm Clock with Night Vision and Motion Detection Wireless Nanny Cam for Home Office Security 【Easy to operate】Our camera app download is divided into Android and iPhone version. For iPhone users, please scan our QR code and download the Lookcam\" application through your cell phone camera. For Android users, please download the \"Lookcam\" application through Play Store.']}"
      ]
     },
     "execution_count": 15,
     "metadata": {},
     "output_type": "execute_result"
    }
   ],
   "source": [
    "reference_output"
   ]
  },
  {
   "cell_type": "code",
   "execution_count": 16,
   "id": "497967b5",
   "metadata": {},
   "outputs": [],
   "source": [
    "result = rag_pipeline(reference_input[\"question\"], qdrant_client)"
   ]
  },
  {
   "cell_type": "code",
   "execution_count": 17,
   "id": "7d62340d",
   "metadata": {},
   "outputs": [
    {
     "data": {
      "text/plain": [
       "{'answer': 'Yes, we have the following surveillance cameras and security products available:\\n\\n1. XVIM Wireless WiFi Light Bulb Camera (3MP) - A 360° pan/tilt indoor dome camera with LED light, motion detection, full color night vision, two-way audio, remote access, and smart storage options. It connects via 2.4GHz WiFi and can be installed easily in an E27 light socket or with an adapter.\\n\\n2. Acrisbrat Hidden Camera Clock - A HD 1080P WiFi spy camera alarm clock with night vision and motion detection, suitable for home or office security. It operates via the \"Lookcam\" app for Android and iPhone.\\n\\nThese products provide options for home or office security monitoring.',\n",
       " 'question': 'Do you have any surveillance cameras or security products?',\n",
       " 'retrieved_context_ids': ['B0C4DBSWGW',\n",
       "  'B0B2JJJFCD',\n",
       "  'B0BR8Q2PXN',\n",
       "  'B0CH6P8DYF',\n",
       "  'B0BGLRMPQD'],\n",
       " 'retrieved_context': ['XVIM Wireless WiFi Light Bulb Camera, 3MP Light Bulb Security Camera, 360° Pan/Tilt Indoor Dome Camera with LED Light, Motion Detection, Full Color Night Vision 【Wireless Connection & Easy Installation】- XVIM wireless security camera supports 2.4Ghz WiFi wireless connection (5Ghz WiFi is not supported). Bulb camera can be directly used with E27 light socket (100V~240V). Also, equipped with an adapter, the light bulb security camera can be easily used by being screwed into the adapter and plugged into the power supply. You can easily use the bulb camera even if there is no light socket at home.【3MP HD Image & Color Night Vision】- With 3MP HD resolution, XVIM light bulb security camera shows you clear and smooth live video/images with absolutely no graininess or blur. Also, the camera for home security is equipped with infrared lights and LED lights, you can enjoy clear Black & White images or Color images at night as you like.【Pan/Tilt Capacity & 2-way Audio】- XVIM security light bulb camera rotates 355° horizontally and flips 90° vertically, allowing you to control the viewing angle of the camera via the app to achieve 360° observation. Light bulb camera has a built-in speaker and microphone, it’s practical for you to have a conversation with your family anytime. Also, when bulb camera detects motion, it will notify you via the “HoMeYe Pro” app in real time , letting you know every potential in the home danger.【Remote Access & Device Sharing】- The wireless camera security supports remote access. After successfully connected the camera on the app, you can remotely access the camera via “HoMeYe Pro” app wherever, whenever. And the bulb camera supports multi-user connectivity and device sharing. Your family as well as you can view the camera on different devices at the same time.【Smart Storage & High Quality Service】- Wireless bulb camera supports micro SD card storage (max128G, not included) and cloud storage(require subscription). You can view, play back and download recordings in real time from the “HoMeYe Pro” app anytime, anywhere. If you have any questions during installation and use, please feel free to contact our customer support, we’ll help you out with your problem as quickly as we can.',\n",
       "  'Acrisbrat Hidden Camera Clock with HD 1080P WiFi Spy Camera Alarm Clock with Night Vision and Motion Detection Wireless Nanny Cam for Home Office Security 【Easy to operate】Our camera app download is divided into Android and iPhone version. For iPhone users, please scan our QR code and download the Lookcam\" application through your cell phone camera. For Android users, please download the \"Lookcam\" application through Play Store.',\n",
       "  'SunplusTrade Cable Zip Ties Heavy Duty, Plastic Wire Ties, Self-Locking Nylon Zip Ties for Indoor and Outdoor (12 inch, Black) Strong and Durable - Our zip ties can hold up to 60lbs. They can be used for indoor and outdoor.Stay Organized - Organize wires, cables, diy craft, garden, lighting, outdoor fence, events, and more.Save Money - Why buy at stores for more money with less zip ties when you can pay less and still get more zip ties? Each pack comes with 100 zip ties.Easy to Use - Self locking zip ties, easy and convenient to use. Must have around the house.',\n",
       "  'New 2023 80x100 High Powered Monoculars for Adults high Powered BAK-4 Prism and FMC Lens Monocular Telescope for Smartphone Monoculars for Bird Watching/Wildlife/Hunting/Hiking 【80x100 High Power Monocular】100 mm object diameter monocular, 80 times magnification. Using optical technology, this monocular uses a fully coated lens to ensure excellent light transmittance and image brightness, provide images with high definition, high quality and high color saturation.【Compact Monocular】Compact and light monocular brings you the distant scenery by adjusting the eye cup and focusing wheel. The monocular is small and easy to carry, and can also obtain stable and clear images with one hand.【High Definition And Super Bright View】This monocular with FMC Superior BAK4 prism lens, which can greatly reduce light loss and get greater magnification with a brighter and clearer field of view.【What you will get in Package】Monocular telescope, Tripod, Dust bag, Lanyard, Instructions, Phone Hold. With a phone adapter and a tripod, you can take clearer and more beautiful photos outdoors at any time, capture the wonderful moments and share with your friends.【The Most Valuable Gift】Perfect Gift for Camping, Hunting, Outdoor gear, Travel, Cruise accessories, Bird Watching, Sports, Football, Soccer. The monocular provides the broadest and most natural view and is an ideal gift for friends and family.',\n",
       "  \"Monocular Telescope, 10x42 Monoculars for Adults, Usogood Compact Portable Waterproof Monocular with Hand Strap, Lightweight Handheld Pocket Telescope for Bird Watching 【10x42 High Definition and Comfortable Viewing】This monoculars for adults with a 42mm objective lens provide 10x magnification, which ensures that you can easily magnify the object with a stable view when observing handheld. With a large field of view of 360ft/1000yards, you can clearly see the mountains 1200 yards away.【22.5 mm Extra Large Eyepiece, More Detail, Clearer and Brighter】Equipped with an oversized 22.5 mm eyepiece, this handheld monocular offers you a comfortable viewing experience. Including the BAK4 prism, all the lenses are fully multi-layer coated to reduce light loss by 99.99%, providing you with a brighter picture.【Extremely Lightweight to Carrying Out, Multiple Carrying Options】This monocular comes with a hand strap and double lens covers, all that weighs less than 9 oz, which is light as your smartphone! Also comes with a soft case with a neck strap, so you can easily take it outside. Perfect for bird watching, deer watching, sporting events, etc.【Mini Size, Handheld, One-finger Precision Focus】Different from other 12x50 monoculars, this compact monocular measures 5.8'' x 2.5'' x 2.1''. You only need one hand to hold it securely, and never feel hand soreness. Designed with the double focus ring, you can easily get a sharp view by adjusting either of them.【See From 3 Yards to Infinity With Clarity】The close focus distance of this small monocular is less than 3 yards. It not only helps you observe the flowers in your yard or the birds in the trees, but also easily brings the landscape thousands of miles away to your eyes, such as a volcano ready to erupt. Also comes with 30-day hassle-free money back guarantee and LIFETIME WARRANTY.\"],\n",
       " 'similarity_scores': [0.39310282,\n",
       "  0.34999272,\n",
       "  0.25361073,\n",
       "  0.23615986,\n",
       "  0.2354354]}"
      ]
     },
     "execution_count": 17,
     "metadata": {},
     "output_type": "execute_result"
    }
   ],
   "source": [
    "result"
   ]
  },
  {
   "cell_type": "code",
   "execution_count": 36,
   "id": "c569580d",
   "metadata": {},
   "outputs": [],
   "source": [
    "async def ragas_faithfulness(run):\n",
    "\n",
    "    sample = SingleTurnSample(\n",
    "            user_input=run[\"question\"],\n",
    "            response=run[\"answer\"],\n",
    "            retrieved_contexts=run[\"retrieved_context\"]\n",
    "        )\n",
    "    scorer = Faithfulness(llm=ragas_llm)\n",
    "\n",
    "    return await scorer.single_turn_ascore(sample)"
   ]
  },
  {
   "cell_type": "code",
   "execution_count": 69,
   "id": "5f9a1d7c",
   "metadata": {},
   "outputs": [
    {
     "data": {
      "text/plain": [
       "1.0"
      ]
     },
     "execution_count": 69,
     "metadata": {},
     "output_type": "execute_result"
    }
   ],
   "source": [
    "await ragas_faithfulness(result)"
   ]
  },
  {
   "cell_type": "code",
   "execution_count": null,
   "id": "17c58b11",
   "metadata": {},
   "outputs": [],
   "source": [
    "async def ragas_responce_relevancy(run):\n",
    "\n",
    "    sample = SingleTurnSample(\n",
    "            user_input=run[\"question\"],\n",
    "            response=run[\"answer\"],\n",
    "            retrieved_contexts=run[\"retrieved_context\"]\n",
    "        )\n",
    "    scorer = ResponseRelevancy(llm=ragas_llm, embeddings=ragas_embeddings)\n",
    "\n",
    "    return await scorer.single_turn_ascore(sample)"
   ]
  },
  {
   "cell_type": "code",
   "execution_count": 70,
   "id": "2b1e4ba1",
   "metadata": {},
   "outputs": [
    {
     "data": {
      "text/plain": [
       "np.float64(0.9354046818505207)"
      ]
     },
     "execution_count": 70,
     "metadata": {},
     "output_type": "execute_result"
    }
   ],
   "source": [
    "await ragas_responce_relevancy(result)"
   ]
  },
  {
   "cell_type": "code",
   "execution_count": 18,
   "id": "e25c767d",
   "metadata": {},
   "outputs": [],
   "source": [
    "async def ragas_context_precision_id_based(run, example):\n",
    "\n",
    "    sample = SingleTurnSample(\n",
    "            retrieved_context_ids=run[\"retrieved_context_ids\"],\n",
    "            reference_context_ids=example[\"reference_context_ids\"]\n",
    "        )\n",
    "    scorer = IDBasedContextPrecision()\n",
    "\n",
    "    return await scorer.single_turn_ascore(sample)"
   ]
  },
  {
   "cell_type": "code",
   "execution_count": 19,
   "id": "019fa82c",
   "metadata": {},
   "outputs": [
    {
     "data": {
      "text/plain": [
       "{'answer': 'Yes, we have the following surveillance cameras and security products available:\\n\\n1. XVIM Wireless WiFi Light Bulb Camera (3MP) - A 360° pan/tilt indoor dome camera with LED light, motion detection, full color night vision, two-way audio, remote access, and smart storage options. It connects via 2.4GHz WiFi and can be installed easily in an E27 light socket or with an adapter.\\n\\n2. Acrisbrat Hidden Camera Clock - A HD 1080P WiFi spy camera alarm clock with night vision and motion detection, suitable for home or office security. It operates via the \"Lookcam\" app for Android and iPhone.\\n\\nThese products provide options for home or office security monitoring.',\n",
       " 'question': 'Do you have any surveillance cameras or security products?',\n",
       " 'retrieved_context_ids': ['B0C4DBSWGW',\n",
       "  'B0B2JJJFCD',\n",
       "  'B0BR8Q2PXN',\n",
       "  'B0CH6P8DYF',\n",
       "  'B0BGLRMPQD'],\n",
       " 'retrieved_context': ['XVIM Wireless WiFi Light Bulb Camera, 3MP Light Bulb Security Camera, 360° Pan/Tilt Indoor Dome Camera with LED Light, Motion Detection, Full Color Night Vision 【Wireless Connection & Easy Installation】- XVIM wireless security camera supports 2.4Ghz WiFi wireless connection (5Ghz WiFi is not supported). Bulb camera can be directly used with E27 light socket (100V~240V). Also, equipped with an adapter, the light bulb security camera can be easily used by being screwed into the adapter and plugged into the power supply. You can easily use the bulb camera even if there is no light socket at home.【3MP HD Image & Color Night Vision】- With 3MP HD resolution, XVIM light bulb security camera shows you clear and smooth live video/images with absolutely no graininess or blur. Also, the camera for home security is equipped with infrared lights and LED lights, you can enjoy clear Black & White images or Color images at night as you like.【Pan/Tilt Capacity & 2-way Audio】- XVIM security light bulb camera rotates 355° horizontally and flips 90° vertically, allowing you to control the viewing angle of the camera via the app to achieve 360° observation. Light bulb camera has a built-in speaker and microphone, it’s practical for you to have a conversation with your family anytime. Also, when bulb camera detects motion, it will notify you via the “HoMeYe Pro” app in real time , letting you know every potential in the home danger.【Remote Access & Device Sharing】- The wireless camera security supports remote access. After successfully connected the camera on the app, you can remotely access the camera via “HoMeYe Pro” app wherever, whenever. And the bulb camera supports multi-user connectivity and device sharing. Your family as well as you can view the camera on different devices at the same time.【Smart Storage & High Quality Service】- Wireless bulb camera supports micro SD card storage (max128G, not included) and cloud storage(require subscription). You can view, play back and download recordings in real time from the “HoMeYe Pro” app anytime, anywhere. If you have any questions during installation and use, please feel free to contact our customer support, we’ll help you out with your problem as quickly as we can.',\n",
       "  'Acrisbrat Hidden Camera Clock with HD 1080P WiFi Spy Camera Alarm Clock with Night Vision and Motion Detection Wireless Nanny Cam for Home Office Security 【Easy to operate】Our camera app download is divided into Android and iPhone version. For iPhone users, please scan our QR code and download the Lookcam\" application through your cell phone camera. For Android users, please download the \"Lookcam\" application through Play Store.',\n",
       "  'SunplusTrade Cable Zip Ties Heavy Duty, Plastic Wire Ties, Self-Locking Nylon Zip Ties for Indoor and Outdoor (12 inch, Black) Strong and Durable - Our zip ties can hold up to 60lbs. They can be used for indoor and outdoor.Stay Organized - Organize wires, cables, diy craft, garden, lighting, outdoor fence, events, and more.Save Money - Why buy at stores for more money with less zip ties when you can pay less and still get more zip ties? Each pack comes with 100 zip ties.Easy to Use - Self locking zip ties, easy and convenient to use. Must have around the house.',\n",
       "  'New 2023 80x100 High Powered Monoculars for Adults high Powered BAK-4 Prism and FMC Lens Monocular Telescope for Smartphone Monoculars for Bird Watching/Wildlife/Hunting/Hiking 【80x100 High Power Monocular】100 mm object diameter monocular, 80 times magnification. Using optical technology, this monocular uses a fully coated lens to ensure excellent light transmittance and image brightness, provide images with high definition, high quality and high color saturation.【Compact Monocular】Compact and light monocular brings you the distant scenery by adjusting the eye cup and focusing wheel. The monocular is small and easy to carry, and can also obtain stable and clear images with one hand.【High Definition And Super Bright View】This monocular with FMC Superior BAK4 prism lens, which can greatly reduce light loss and get greater magnification with a brighter and clearer field of view.【What you will get in Package】Monocular telescope, Tripod, Dust bag, Lanyard, Instructions, Phone Hold. With a phone adapter and a tripod, you can take clearer and more beautiful photos outdoors at any time, capture the wonderful moments and share with your friends.【The Most Valuable Gift】Perfect Gift for Camping, Hunting, Outdoor gear, Travel, Cruise accessories, Bird Watching, Sports, Football, Soccer. The monocular provides the broadest and most natural view and is an ideal gift for friends and family.',\n",
       "  \"Monocular Telescope, 10x42 Monoculars for Adults, Usogood Compact Portable Waterproof Monocular with Hand Strap, Lightweight Handheld Pocket Telescope for Bird Watching 【10x42 High Definition and Comfortable Viewing】This monoculars for adults with a 42mm objective lens provide 10x magnification, which ensures that you can easily magnify the object with a stable view when observing handheld. With a large field of view of 360ft/1000yards, you can clearly see the mountains 1200 yards away.【22.5 mm Extra Large Eyepiece, More Detail, Clearer and Brighter】Equipped with an oversized 22.5 mm eyepiece, this handheld monocular offers you a comfortable viewing experience. Including the BAK4 prism, all the lenses are fully multi-layer coated to reduce light loss by 99.99%, providing you with a brighter picture.【Extremely Lightweight to Carrying Out, Multiple Carrying Options】This monocular comes with a hand strap and double lens covers, all that weighs less than 9 oz, which is light as your smartphone! Also comes with a soft case with a neck strap, so you can easily take it outside. Perfect for bird watching, deer watching, sporting events, etc.【Mini Size, Handheld, One-finger Precision Focus】Different from other 12x50 monoculars, this compact monocular measures 5.8'' x 2.5'' x 2.1''. You only need one hand to hold it securely, and never feel hand soreness. Designed with the double focus ring, you can easily get a sharp view by adjusting either of them.【See From 3 Yards to Infinity With Clarity】The close focus distance of this small monocular is less than 3 yards. It not only helps you observe the flowers in your yard or the birds in the trees, but also easily brings the landscape thousands of miles away to your eyes, such as a volcano ready to erupt. Also comes with 30-day hassle-free money back guarantee and LIFETIME WARRANTY.\"],\n",
       " 'similarity_scores': [0.39310282,\n",
       "  0.34999272,\n",
       "  0.25361073,\n",
       "  0.23615986,\n",
       "  0.2354354]}"
      ]
     },
     "execution_count": 19,
     "metadata": {},
     "output_type": "execute_result"
    }
   ],
   "source": [
    "result"
   ]
  },
  {
   "cell_type": "code",
   "execution_count": 54,
   "id": "bd02393c",
   "metadata": {},
   "outputs": [
    {
     "data": {
      "text/plain": [
       "{'ground_truth': 'The package includes a printing top case, a bottom case, a screen protector, and a keyboard cover.',\n",
       " 'reference_context_ids': ['B0B6V8THVX'],\n",
       " 'reference_descriptions': ['May Chen Compatible with Newest MacBook Air 13.6 Inch Case 2022 Release Model A2681 M2 Clip, Plastic Hard Shell Case Cover for MacBook Air 13 inch with Retina Display & Touch ID, Astronaut Flight 【 COMPATIBLE WITH 】2022 Newest MacBook Air 13.6 inch Model: A2681 Apple M2 Clip Liquid Retina display & Touch ID - Please kindly check model number \"A2xxx\"on the back of the for MacBook before your purchase.【 WARNING Not compatible with 】Not fit for 2018 2019 2020 2021 MacBook Air 13 inch Model A2337 M1 / A2179 / A1932 with Retina Dispaly and Touch ID. Not compatible with older Air 13 models,Please double check your model number.【 May Chen Design 】Unique 3D UV Painting,to add something different and colorful to your Macbook. Two pieces snap on design, easy to install and take off. It allows full access to all ports and Touch ID function.【 FUNCTION 】our anti-slip silicone feet at the bottom shell, it can keep your device firmly in place all the time ,Featuring two rows of bottom ventilation, allowing safe heat disbursement to keep your device cool ,Featuring all-inclusive design to fully protect your device from drops, downs, scratches, etc from daily using.【 PACKAGE INCLUDE & SERVICE 】1x Printing Top case + 1x Bottom case + 1x Screen Protector + 1x Keyboard cover + 1x Dust plug. ( Our Professional Service Team will solve your problems to ensure your complete satisfaction in 24 hours.Just CLICK INTO May Chen to contact us if you need anything such as replacement,refund,installation guide.)']}"
      ]
     },
     "execution_count": 54,
     "metadata": {},
     "output_type": "execute_result"
    }
   ],
   "source": [
    "reference_output"
   ]
  },
  {
   "cell_type": "code",
   "execution_count": 20,
   "id": "d33c0d02",
   "metadata": {},
   "outputs": [
    {
     "data": {
      "text/plain": [
       "0.4"
      ]
     },
     "execution_count": 20,
     "metadata": {},
     "output_type": "execute_result"
    }
   ],
   "source": [
    "await ragas_context_precision_id_based(result, reference_output)"
   ]
  },
  {
   "cell_type": "code",
   "execution_count": 22,
   "id": "fcf6ea5e",
   "metadata": {},
   "outputs": [],
   "source": [
    "\n",
    "async def ragas_context_recall_id_based(run, example):\n",
    "\n",
    "    sample = SingleTurnSample(\n",
    "            retrieved_context_ids=run[\"retrieved_context_ids\"],\n",
    "            reference_context_ids=example[\"reference_context_ids\"]\n",
    "        )\n",
    "    scorer = IDBasedContextRecall()\n",
    "\n",
    "    return await scorer.single_turn_ascore(sample)"
   ]
  },
  {
   "cell_type": "code",
   "execution_count": 23,
   "id": "db6f4227",
   "metadata": {},
   "outputs": [
    {
     "data": {
      "text/plain": [
       "1.0"
      ]
     },
     "execution_count": 23,
     "metadata": {},
     "output_type": "execute_result"
    }
   ],
   "source": [
    "await ragas_context_recall_id_based(result, reference_output)"
   ]
  }
 ],
 "metadata": {
  "kernelspec": {
   "display_name": ".venv",
   "language": "python",
   "name": "python3"
  },
  "language_info": {
   "codemirror_mode": {
    "name": "ipython",
    "version": 3
   },
   "file_extension": ".py",
   "mimetype": "text/x-python",
   "name": "python",
   "nbconvert_exporter": "python",
   "pygments_lexer": "ipython3",
   "version": "3.12.11"
  }
 },
 "nbformat": 4,
 "nbformat_minor": 5
}
